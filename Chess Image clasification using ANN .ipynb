{
 "cells": [
  {
   "cell_type": "markdown",
   "id": "ae6f4670",
   "metadata": {
    "id": "ae6f4670"
   },
   "source": [
    "# **1. initialize Our Environment**"
   ]
  },
  {
   "cell_type": "markdown",
   "id": "c5d05a95",
   "metadata": {
    "id": "c5d05a95"
   },
   "source": [
    "### **1.1 Importing Libs We Will Use**"
   ]
  },
  {
   "cell_type": "code",
   "execution_count": 1,
   "id": "d99d34f4",
   "metadata": {
    "id": "d99d34f4"
   },
   "outputs": [],
   "source": [
    "import cv2                                            # For Read Images as array from Path\n",
    "import numpy as np                                    # For dealing with arrays\n",
    "import os                                             # For dealing with paths\n",
    "import matplotlib.pyplot as plt                       # For Showing Images \n",
    "from skimage import feature                           # For Extaracting Featuers From Image array \n",
    "from tensorflow.keras import layers,models,losses     # For Model Building\n",
    "from tqdm import tqdm                                 # For Showing the progress of Loading\n",
    "from sklearn.model_selection import train_test_split  # For Splitting Data into Train and Test For Model\n",
    "import keras.backend as K\n",
    "import tensorflow as tf\n",
    "from sklearn.metrics import confusion_matrix\n",
    "from sklearn.svm import SVC\n",
    "import seaborn as sns\n",
    "from sklearn.metrics import roc_curve\n",
    "from sklearn.metrics import roc_auc_score"
   ]
  },
  {
   "cell_type": "markdown",
   "id": "90993e82",
   "metadata": {
    "id": "90993e82"
   },
   "source": [
    "### **1.2 initialize Vars**"
   ]
  },
  {
   "cell_type": "code",
   "execution_count": 2,
   "id": "dabf3a03",
   "metadata": {
    "id": "dabf3a03"
   },
   "outputs": [],
   "source": [
    "dataPath = \"./chess/train\"                                    # Save The Path of The Data In Var\n",
    "\n",
    "validPath = \"./chess/valid\"\n",
    "\n",
    "pieces = [\"bishop\",\"king\",\"knight\",\"pawn\",\"queen\",\"rook\"]     # Save our Pieces We can Predict in array\n",
    "\n",
    "trainingData = []                                             # Make an Array Saves Our Training data as Array And it's Class\n",
    "\n",
    "trainingDataFeatuers = []                                     # Make an Array Saves Our Training data Featuers as Array \n",
    "\n",
    "trainingDataLabel = []                                        # Make an Array Saves Our Training data Labels as Array \n",
    "\n",
    "width = 128\n",
    "height = 256"
   ]
  },
  {
   "cell_type": "markdown",
   "id": "d5a2a45c",
   "metadata": {
    "id": "d5a2a45c"
   },
   "source": [
    "### **1.3 initialize Functions**"
   ]
  },
  {
   "cell_type": "code",
   "execution_count": 3,
   "id": "ee55eeb8",
   "metadata": {
    "id": "ee55eeb8"
   },
   "outputs": [],
   "source": [
    "def createTrainingData():                                      # function for get The Data Which The model will Be trained with \n",
    "    for piece in pieces:\n",
    "    \n",
    "        path = os.path.join(dataPath,piece)                                     # create path \n",
    "        class_num = pieces.index(piece)                                         # get the classification\n",
    "    \n",
    "        for img in tqdm(os.listdir(path)):                                      # iterate over each image\n",
    "            try:\n",
    "                img_array = cv2.imread(os.path.join(path,img))                  # convert to array\n",
    "                img_array = cv2.cvtColor(img_array, cv2.COLOR_BGR2GRAY)\n",
    "                img_array=cv2.resize(img_array, (width, height))\n",
    "                img_array = feature.hog(img_array)   # function which extract featuers \n",
    "                trainingData.append([img_array, class_num])                     # add this to our trainingData\n",
    "            except Exception as e:                                              # in the interest in keeping the output clean...\n",
    "                pass\n",
    "            \n",
    "    for features,label in trainingData:                                         # Splites it into Featuers And Labels ...\n",
    "        trainingDataFeatuers.append(features)\n",
    "        trainingDataLabel.append(label)\n",
    "        \n",
    "def Validate (*args):\n",
    "    if (len(args) == 0 ):\n",
    "        model = models.load_model(\"Last.h5\")\n",
    "        validateDataDir = validPath\n",
    "        TP = os.path.join(validateDataDir)\n",
    "        for file in os.listdir(TP):\n",
    "            P = os.path.join(TP,file)\n",
    "            for img in os.listdir(P):\n",
    "                try:\n",
    "                    imgName= img\n",
    "                    img = cv2.imread(os.path.join(P,img))  \n",
    "                    img = cv2.cvtColor(img, cv2.COLOR_BGR2GRAY)\n",
    "                    img = cv2.resize(img, (width, height))\n",
    "            #         plt.imshow(img,cmap=plt.cm.binary)\n",
    "            #         plt.show()\n",
    "                    img = feature.hog(img)\n",
    "                    prediction = annModel.predict(np.array([img])/255)\n",
    "\n",
    "                    index=np.argmax(prediction)\n",
    "                    print(\"welcome \",file,\" \",pieces[index])\n",
    "                except Exception as e:\n",
    "                    print(\"Some Thing Went Wrong\")\n",
    "    elif (len(args)==1):\n",
    "        model = models.load_model(args[0])\n",
    "        validateDataDir = validPath\n",
    "        TP = os.path.join(validateDataDir)\n",
    "        for file in os.listdir(TP):\n",
    "            P = os.path.join(TP,file)\n",
    "            for img in os.listdir(P):\n",
    "                try:\n",
    "                    imgName= img\n",
    "                    img = cv2.imread(os.path.join(P,img))  \n",
    "                    img = cv2.cvtColor(img, cv2.COLOR_BGR2GRAY)\n",
    "                    img = cv2.resize(img, (width, height))\n",
    "            #         plt.imshow(img,cmap=plt.cm.binary)\n",
    "            #         plt.show()\n",
    "                    img = feature.hog(img)\n",
    "                    prediction = annModel.predict(np.array([img])/255)\n",
    "\n",
    "                    index=np.argmax(prediction)\n",
    "                    print(\"welcome \",file,\" \",pieces[index])\n",
    "                except Exception as e:\n",
    "                    print(\"Some Thing Went Wrong\")\n",
    "                "
   ]
  },
  {
   "cell_type": "markdown",
   "id": "748b231f",
   "metadata": {
    "id": "748b231f"
   },
   "source": [
    "# **2. Data Section**"
   ]
  },
  {
   "cell_type": "markdown",
   "id": "5559fd76",
   "metadata": {
    "id": "5559fd76"
   },
   "source": [
    "### **2.1 Get The Data**"
   ]
  },
  {
   "cell_type": "code",
   "execution_count": 4,
   "id": "4769349f",
   "metadata": {
    "id": "4769349f",
    "outputId": "f15fd0a8-7466-46a5-9eec-c9f5ff4a6d79"
   },
   "outputs": [
    {
     "name": "stderr",
     "output_type": "stream",
     "text": [
      "100%|████████████████████████████████████████████████████████████████████████████████| 279/279 [00:07<00:00, 37.59it/s]\n",
      "100%|████████████████████████████████████████████████████████████████████████████████| 324/324 [00:08<00:00, 39.92it/s]\n",
      "100%|████████████████████████████████████████████████████████████████████████████████| 363/363 [00:09<00:00, 38.14it/s]\n",
      "100%|████████████████████████████████████████████████████████████████████████████████| 339/339 [00:10<00:00, 31.56it/s]\n",
      "100%|████████████████████████████████████████████████████████████████████████████████| 285/285 [00:07<00:00, 39.84it/s]\n",
      "100%|████████████████████████████████████████████████████████████████████████████████| 315/315 [00:09<00:00, 33.12it/s]\n"
     ]
    }
   ],
   "source": [
    "createTrainingData()"
   ]
  },
  {
   "cell_type": "markdown",
   "id": "62e9fcd0",
   "metadata": {
    "id": "62e9fcd0"
   },
   "source": [
    "### **2.2 Splites it into Training Data and Test Data**"
   ]
  },
  {
   "cell_type": "code",
   "execution_count": 5,
   "id": "a6516c89",
   "metadata": {
    "id": "a6516c89"
   },
   "outputs": [],
   "source": [
    "featuersTrainData, featuersTestData, labelsTrainData, labelsTestData = train_test_split(trainingDataFeatuers , trainingDataLabel, test_size=0.15, random_state=42)"
   ]
  },
  {
   "cell_type": "markdown",
   "id": "9e6fb611",
   "metadata": {
    "id": "9e6fb611"
   },
   "source": [
    "### **2.3 Preprocess The Data**"
   ]
  },
  {
   "cell_type": "code",
   "execution_count": 6,
   "id": "7b71f2c1",
   "metadata": {
    "id": "7b71f2c1"
   },
   "outputs": [],
   "source": [
    "featuersTrainData = np.array(featuersTrainData)                  # Make featuersTrainData Array as a Numby array for easy use\n",
    "\n",
    "labelsTrainData=np.array(labelsTrainData)                        # Make labelsTrainData Array as a Numby array for easy use\n",
    "\n",
    "featuersTestData = np.array(featuersTestData)                    # Make featuersTestData Array as a Numby array for easy use\n",
    "\n",
    "labelsTestData=np.array(labelsTestData)                          # Make labelsTestData Array as a Numby array for easy use\n",
    "\n",
    "\n",
    "featuersTrainData=featuersTrainData/255.0                        # Normalize featuersTrainData Array\n",
    "featuersTestData=featuersTestData/255.0                          # Normalize featuersTestData Array"
   ]
  },
  {
   "cell_type": "markdown",
   "id": "d1ea72f4",
   "metadata": {
    "id": "d1ea72f4"
   },
   "source": [
    "# **3. Model Section**"
   ]
  },
  {
   "cell_type": "markdown",
   "id": "e7711f3d",
   "metadata": {
    "id": "e7711f3d"
   },
   "source": [
    "### **3.1 Build Model**"
   ]
  },
  {
   "cell_type": "code",
   "execution_count": 7,
   "id": "cc5600fc",
   "metadata": {
    "id": "cc5600fc",
    "outputId": "ec2edc1f-177a-4992-fdad-330a1d7d2765"
   },
   "outputs": [],
   "source": [
    "annModel = models.Sequential()\n",
    "\n",
    "annModel.add(layers.Dense(40, input_shape=(featuersTrainData.shape[1],), activation='relu')) # First Layer in Model is our input layer\n",
    "\n",
    "annModel.add(layers.Dropout(0.33)) # This Layer in Model is Hidden layer which drops % from feature every epoch avoids locals\n",
    "\n",
    "annModel.add(layers.Dense(30))  # Hidden Layer in Model has 30 node\n",
    "\n",
    "annModel.add(layers.Dense(15))  # Hidden Layer in Model has 15 node\n",
    "\n",
    "annModel.add(layers.Flatten())  # Hidden Layer converts our 3D feature maps to 1D feature vectors\n",
    "\n",
    "annModel.add(layers.Dense(40))  # Hidden Layer in Model has 40 node\n",
    "\n",
    "annModel.add(layers.Dense(25))  # Hidden Layer in Model has 25 node\n",
    "\n",
    "annModel.add(layers.Dense(15))  # Hidden Layer in Model has 15 node\n",
    "\n",
    "annModel.add(layers.Dense(6,activation='softmax'))  # Last Layer in Model is our Output Layer "
   ]
  },
  {
   "cell_type": "markdown",
   "id": "00816761",
   "metadata": {
    "id": "00816761"
   },
   "source": [
    "### **3.2 Compile And  Fit Model** "
   ]
  },
  {
   "cell_type": "code",
   "execution_count": 9,
   "id": "0724e529",
   "metadata": {
    "id": "0724e529",
    "scrolled": true
   },
   "outputs": [
    {
     "name": "stdout",
     "output_type": "stream",
     "text": [
      "Epoch 1/50\n",
      "51/51 [==============================] - 2s 23ms/step - loss: 0.0306 - accuracy: 0.9907 - val_loss: 0.6016 - val_accuracy: 0.9231\n",
      "Epoch 2/50\n",
      "51/51 [==============================] - 1s 18ms/step - loss: 0.0394 - accuracy: 0.9876 - val_loss: 1.0032 - val_accuracy: 0.8916\n",
      "Epoch 3/50\n",
      "51/51 [==============================] - 1s 18ms/step - loss: 0.0599 - accuracy: 0.9778 - val_loss: 0.7701 - val_accuracy: 0.9091\n",
      "Epoch 4/50\n",
      "51/51 [==============================] - 1s 13ms/step - loss: 0.0311 - accuracy: 0.9895 - val_loss: 0.6075 - val_accuracy: 0.9301\n",
      "Epoch 5/50\n",
      "51/51 [==============================] - 1s 13ms/step - loss: 0.0295 - accuracy: 0.9901 - val_loss: 0.5509 - val_accuracy: 0.9231\n",
      "Epoch 6/50\n",
      "51/51 [==============================] - 1s 12ms/step - loss: 0.0328 - accuracy: 0.9895 - val_loss: 0.5369 - val_accuracy: 0.9266\n",
      "Epoch 7/50\n",
      "51/51 [==============================] - 1s 12ms/step - loss: 0.0250 - accuracy: 0.9895 - val_loss: 0.8112 - val_accuracy: 0.9196\n",
      "Epoch 8/50\n",
      "51/51 [==============================] - 1s 13ms/step - loss: 0.0328 - accuracy: 0.9876 - val_loss: 0.6984 - val_accuracy: 0.9196\n",
      "Epoch 9/50\n",
      "51/51 [==============================] - 1s 16ms/step - loss: 0.0414 - accuracy: 0.9858 - val_loss: 0.6872 - val_accuracy: 0.9126\n",
      "Epoch 10/50\n",
      "51/51 [==============================] - 1s 16ms/step - loss: 0.0360 - accuracy: 0.9895 - val_loss: 0.5701 - val_accuracy: 0.9231\n",
      "Epoch 11/50\n",
      "51/51 [==============================] - 1s 16ms/step - loss: 0.0394 - accuracy: 0.9858 - val_loss: 0.5890 - val_accuracy: 0.9336: 0.0422 - accura\n",
      "Epoch 12/50\n",
      "51/51 [==============================] - 1s 13ms/step - loss: 0.0344 - accuracy: 0.9870 - val_loss: 0.6491 - val_accuracy: 0.9196\n",
      "Epoch 13/50\n",
      "51/51 [==============================] - 1s 13ms/step - loss: 0.0306 - accuracy: 0.9901 - val_loss: 0.5763 - val_accuracy: 0.9231\n",
      "Epoch 14/50\n",
      "51/51 [==============================] - 1s 13ms/step - loss: 0.0360 - accuracy: 0.9876 - val_loss: 0.5864 - val_accuracy: 0.9231\n",
      "Epoch 15/50\n",
      "51/51 [==============================] - 1s 11ms/step - loss: 0.0318 - accuracy: 0.9852 - val_loss: 0.5336 - val_accuracy: 0.9266\n",
      "Epoch 16/50\n",
      "51/51 [==============================] - 1s 11ms/step - loss: 0.0259 - accuracy: 0.9932 - val_loss: 0.5387 - val_accuracy: 0.9336\n",
      "Epoch 17/50\n",
      "51/51 [==============================] - 1s 12ms/step - loss: 0.0342 - accuracy: 0.9883 - val_loss: 0.6605 - val_accuracy: 0.9161\n",
      "Epoch 18/50\n",
      "51/51 [==============================] - 1s 13ms/step - loss: 0.0254 - accuracy: 0.9926 - val_loss: 0.8885 - val_accuracy: 0.9091\n",
      "Epoch 19/50\n",
      "51/51 [==============================] - ETA: 0s - loss: 0.0427 - accuracy: 0.98 - 1s 14ms/step - loss: 0.0406 - accuracy: 0.9833 - val_loss: 0.4706 - val_accuracy: 0.9266\n",
      "Epoch 20/50\n",
      "51/51 [==============================] - 1s 13ms/step - loss: 0.0424 - accuracy: 0.9870 - val_loss: 0.6162 - val_accuracy: 0.9196\n",
      "Epoch 21/50\n",
      "51/51 [==============================] - 1s 13ms/step - loss: 0.0309 - accuracy: 0.9895 - val_loss: 0.7963 - val_accuracy: 0.9161\n",
      "Epoch 22/50\n",
      "51/51 [==============================] - 1s 14ms/step - loss: 0.0481 - accuracy: 0.9833 - val_loss: 0.8471 - val_accuracy: 0.9091\n",
      "Epoch 23/50\n",
      "51/51 [==============================] - 1s 15ms/step - loss: 0.0300 - accuracy: 0.9901 - val_loss: 0.6059 - val_accuracy: 0.9406\n",
      "Epoch 24/50\n",
      "51/51 [==============================] - 1s 14ms/step - loss: 0.0364 - accuracy: 0.9901 - val_loss: 0.6634 - val_accuracy: 0.9301\n",
      "Epoch 25/50\n",
      "51/51 [==============================] - 1s 14ms/step - loss: 0.0195 - accuracy: 0.9932 - val_loss: 0.6691 - val_accuracy: 0.9266\n",
      "Epoch 26/50\n",
      "51/51 [==============================] - 1s 14ms/step - loss: 0.0399 - accuracy: 0.9876 - val_loss: 0.5065 - val_accuracy: 0.9441\n",
      "Epoch 27/50\n",
      "51/51 [==============================] - 1s 15ms/step - loss: 0.0152 - accuracy: 0.9951 - val_loss: 0.6137 - val_accuracy: 0.9371\n",
      "Epoch 28/50\n",
      "51/51 [==============================] - 1s 15ms/step - loss: 0.0239 - accuracy: 0.9932 - val_loss: 0.6281 - val_accuracy: 0.9371\n",
      "Epoch 29/50\n",
      "51/51 [==============================] - 1s 13ms/step - loss: 0.0187 - accuracy: 0.9932 - val_loss: 0.6044 - val_accuracy: 0.9371\n",
      "Epoch 30/50\n",
      "51/51 [==============================] - 1s 14ms/step - loss: 0.0116 - accuracy: 0.9969 - val_loss: 0.6415 - val_accuracy: 0.9336\n",
      "Epoch 31/50\n",
      "51/51 [==============================] - 1s 15ms/step - loss: 0.0365 - accuracy: 0.9876 - val_loss: 0.7537 - val_accuracy: 0.9266\n",
      "Epoch 32/50\n",
      "51/51 [==============================] - 1s 15ms/step - loss: 0.0327 - accuracy: 0.9870 - val_loss: 0.8159 - val_accuracy: 0.9056\n",
      "Epoch 33/50\n",
      "51/51 [==============================] - 1s 14ms/step - loss: 0.0346 - accuracy: 0.9895 - val_loss: 0.4808 - val_accuracy: 0.9371\n",
      "Epoch 34/50\n",
      "51/51 [==============================] - 1s 14ms/step - loss: 0.0241 - accuracy: 0.9914 - val_loss: 0.7119 - val_accuracy: 0.9301\n",
      "Epoch 35/50\n",
      "51/51 [==============================] - 1s 14ms/step - loss: 0.0138 - accuracy: 0.9963 - val_loss: 0.7184 - val_accuracy: 0.9231\n",
      "Epoch 36/50\n",
      "51/51 [==============================] - 1s 17ms/step - loss: 0.0242 - accuracy: 0.9932 - val_loss: 0.7513 - val_accuracy: 0.9196\n",
      "Epoch 37/50\n",
      "51/51 [==============================] - 1s 16ms/step - loss: 0.0225 - accuracy: 0.9920 - val_loss: 0.5856 - val_accuracy: 0.9266\n",
      "Epoch 38/50\n",
      "51/51 [==============================] - 1s 15ms/step - loss: 0.0296 - accuracy: 0.9889 - val_loss: 0.6435 - val_accuracy: 0.9371\n",
      "Epoch 39/50\n",
      "51/51 [==============================] - 1s 16ms/step - loss: 0.0302 - accuracy: 0.9926 - val_loss: 0.7525 - val_accuracy: 0.9301\n",
      "Epoch 40/50\n",
      "51/51 [==============================] - 1s 15ms/step - loss: 0.0300 - accuracy: 0.9920 - val_loss: 0.6274 - val_accuracy: 0.9336\n",
      "Epoch 41/50\n",
      "51/51 [==============================] - 1s 15ms/step - loss: 0.0184 - accuracy: 0.9957 - val_loss: 0.6440 - val_accuracy: 0.9301\n",
      "Epoch 42/50\n",
      "51/51 [==============================] - 1s 16ms/step - loss: 0.0374 - accuracy: 0.9876 - val_loss: 0.5803 - val_accuracy: 0.9301\n",
      "Epoch 43/50\n",
      "51/51 [==============================] - 1s 15ms/step - loss: 0.0235 - accuracy: 0.9920 - val_loss: 0.5702 - val_accuracy: 0.9196\n",
      "Epoch 44/50\n",
      "51/51 [==============================] - 1s 14ms/step - loss: 0.0170 - accuracy: 0.9957 - val_loss: 0.6550 - val_accuracy: 0.9196\n",
      "Epoch 45/50\n",
      "51/51 [==============================] - 1s 14ms/step - loss: 0.0217 - accuracy: 0.9951 - val_loss: 0.7183 - val_accuracy: 0.9161\n",
      "Epoch 46/50\n",
      "51/51 [==============================] - 1s 15ms/step - loss: 0.0351 - accuracy: 0.9907 - val_loss: 0.7456 - val_accuracy: 0.9196\n",
      "Epoch 47/50\n",
      "51/51 [==============================] - 1s 16ms/step - loss: 0.0311 - accuracy: 0.9895 - val_loss: 0.6404 - val_accuracy: 0.9126\n",
      "Epoch 48/50\n",
      "51/51 [==============================] - 1s 14ms/step - loss: 0.0263 - accuracy: 0.9938 - val_loss: 0.6688 - val_accuracy: 0.9161\n",
      "Epoch 49/50\n",
      "51/51 [==============================] - 1s 16ms/step - loss: 0.0209 - accuracy: 0.9951 - val_loss: 0.6629 - val_accuracy: 0.9301\n",
      "Epoch 50/50\n",
      "51/51 [==============================] - 1s 16ms/step - loss: 0.0123 - accuracy: 0.9957 - val_loss: 0.6468 - val_accuracy: 0.9126\n",
      "9/9 - 0s - loss: 0.6468 - accuracy: 0.9126 - 66ms/epoch - 7ms/step\n"
     ]
    },
    {
     "data": {
      "text/plain": [
       "[0.6467954516410828, 0.9125874042510986]"
      ]
     },
     "execution_count": 9,
     "metadata": {},
     "output_type": "execute_result"
    }
   ],
   "source": [
    "annModel.compile(optimizer='adam', loss=losses.SparseCategoricalCrossentropy(), metrics=['accuracy'])\n",
    "history = annModel.fit(featuersTrainData, labelsTrainData ,epochs=50, validation_data=(featuersTestData, labelsTestData), batch_size=32)\n",
    "annModel.evaluate(featuersTestData,labelsTestData,verbose=2)\n",
    "#annModel.save(\"Last.h5\")"
   ]
  },
  {
   "cell_type": "markdown",
   "id": "e490b399",
   "metadata": {
    "id": "e490b399"
   },
   "source": [
    "### **3.3 Save Model**"
   ]
  },
  {
   "cell_type": "code",
   "execution_count": 44,
   "id": "68f4a1d6",
   "metadata": {
    "id": "68f4a1d6"
   },
   "outputs": [],
   "source": [
    "#annModel.save(\"Last.h5\")"
   ]
  },
  {
   "cell_type": "markdown",
   "id": "ee645d40",
   "metadata": {
    "id": "ee645d40"
   },
   "source": [
    "## **4. Validate Data**"
   ]
  },
  {
   "cell_type": "code",
   "execution_count": 71,
   "id": "1686f4f7",
   "metadata": {
    "id": "1686f4f7",
    "outputId": "72a9fe4f-dbc3-449e-ace3-a5b29596b5ac",
    "scrolled": true
   },
   "outputs": [
    {
     "name": "stdout",
     "output_type": "stream",
     "text": [
      "welcome  bishop   bishop\n",
      "welcome  bishop   bishop\n",
      "welcome  bishop   bishop\n",
      "welcome  bishop   bishop\n",
      "welcome  bishop   bishop\n",
      "welcome  king   king\n",
      "welcome  king   king\n",
      "welcome  king   king\n",
      "welcome  king   king\n",
      "welcome  king   king\n",
      "welcome  king   king\n",
      "welcome  knight   knight\n",
      "welcome  knight   knight\n",
      "welcome  knight   knight\n",
      "welcome  knight   knight\n",
      "welcome  knight   knight\n",
      "welcome  pawn   pawn\n",
      "welcome  pawn   pawn\n",
      "welcome  pawn   pawn\n",
      "welcome  pawn   pawn\n",
      "welcome  pawn   pawn\n",
      "welcome  pawn   rook\n",
      "welcome  queen   queen\n",
      "welcome  queen   queen\n",
      "welcome  queen   queen\n",
      "welcome  queen   queen\n",
      "welcome  queen   queen\n",
      "welcome  rook   rook\n",
      "welcome  rook   rook\n",
      "welcome  rook   rook\n",
      "welcome  rook   rook\n",
      "welcome  rook   rook\n",
      "welcome  rook   knight\n",
      "welcome  rook   rook\n",
      "welcome  rook   rook\n",
      "*******************************\n",
      "welcome  bishop   bishop\n",
      "welcome  bishop   bishop\n",
      "welcome  bishop   bishop\n",
      "welcome  bishop   bishop\n",
      "welcome  bishop   bishop\n",
      "welcome  king   king\n",
      "welcome  king   king\n",
      "welcome  king   king\n",
      "welcome  king   king\n",
      "welcome  king   king\n",
      "welcome  king   king\n",
      "welcome  knight   knight\n",
      "welcome  knight   knight\n",
      "welcome  knight   knight\n",
      "welcome  knight   knight\n",
      "welcome  knight   knight\n",
      "welcome  pawn   pawn\n",
      "welcome  pawn   pawn\n",
      "welcome  pawn   pawn\n",
      "welcome  pawn   pawn\n",
      "welcome  pawn   pawn\n",
      "welcome  pawn   rook\n",
      "welcome  queen   queen\n",
      "welcome  queen   queen\n",
      "welcome  queen   queen\n",
      "welcome  queen   queen\n",
      "welcome  queen   queen\n",
      "welcome  rook   rook\n",
      "welcome  rook   rook\n",
      "welcome  rook   rook\n",
      "welcome  rook   rook\n",
      "welcome  rook   rook\n",
      "welcome  rook   knight\n",
      "welcome  rook   rook\n",
      "welcome  rook   rook\n"
     ]
    }
   ],
   "source": [
    "Validate()\n",
    "print(\"*******************************\")\n",
    "Validate(\"Saved1.h5\")"
   ]
  },
  {
   "cell_type": "markdown",
   "id": "8555e5ce",
   "metadata": {},
   "source": [
    "## **5. Plots**"
   ]
  },
  {
   "cell_type": "markdown",
   "id": "a966da1b",
   "metadata": {},
   "source": [
    "### **5.1 ROC Curve**"
   ]
  },
  {
   "cell_type": "code",
   "execution_count": 72,
   "id": "6fccd995",
   "metadata": {},
   "outputs": [
    {
     "data": {
      "image/png": "[encoded data removed]",
      "text/plain": [
       "<Figure size 432x288 with 1 Axes>"
      ]
     },
     "metadata": {
      "needs_background": "light"
     },
     "output_type": "display_data"
    }
   ],
   "source": [
    "pred = annModel.predict(featuersTestData)\n",
    "fpr = {}\n",
    "tpr = {}\n",
    "thresh ={}\n",
    "n_class = len(pieces)\n",
    "for i in range(n_class):\n",
    "    fpr[i], tpr[i], thresh[i] = roc_curve(labelsTestData, pred[:,i], pos_label=i)\n",
    "\n",
    "# plotting\n",
    "plt.plot(fpr[0], tpr[0], linestyle='-',color='orange', label='bishop')\n",
    "plt.plot(fpr[1], tpr[1], linestyle='-',color='green', label='king')\n",
    "plt.plot(fpr[2], tpr[2], linestyle='-',color='red', label='knight')\n",
    "plt.plot(fpr[3], tpr[3], linestyle='-',color='blue', label='pawn')\n",
    "plt.plot(fpr[4], tpr[4], linestyle='-',color='purple', label='queen')\n",
    "plt.plot(fpr[5], tpr[5], linestyle='-',color='pink', label='rook')\n",
    "plt.plot([0,1],[0,1],linestyle='--')\n",
    "plt.title('Multiclass ROC curve')\n",
    "plt.xlabel('False Positive Rate')\n",
    "plt.ylabel('True Positive rate')\n",
    "plt.legend(loc='best')\n",
    "plt.savefig('Multiclass ROC',dpi=300);"
   ]
  },
  {
   "cell_type": "markdown",
   "id": "e705088b",
   "metadata": {},
   "source": [
    "### **5.2 Loss Curve**"
   ]
  },
  {
   "cell_type": "code",
   "execution_count": 73,
   "id": "58b44d5d",
   "metadata": {},
   "outputs": [
    {
     "data": {
      "image/png": "[encoded data removed]",
      "text/plain": [
       "<Figure size 432x288 with 1 Axes>"
      ]
     },
     "metadata": {
      "needs_background": "light"
     },
     "output_type": "display_data"
    }
   ],
   "source": [
    "loss = history.history['loss']\n",
    "val_loss = history.history['val_loss']\n",
    "epochs = range(1, len(loss) + 1)\n",
    "plt.plot(epochs, loss, 'y', label='Training loss')\n",
    "plt.plot(epochs, val_loss, 'r', label='Validation loss')\n",
    "plt.title('Training and validation loss')\n",
    "plt.xlabel('Epochs')\n",
    "plt.ylabel('Loss')\n",
    "plt.legend()\n",
    "plt.show()"
   ]
  },
  {
   "cell_type": "markdown",
   "id": "9121a121",
   "metadata": {},
   "source": [
    "### **5.3 Confusion Matrix**"
   ]
  },
  {
   "cell_type": "code",
   "execution_count": 13,
   "id": "9fa61e82",
   "metadata": {},
   "outputs": [
    {
     "data": {
      "text/plain": [
       "<AxesSubplot:>"
      ]
     },
     "execution_count": 13,
     "metadata": {},
     "output_type": "execute_result"
    },
    {
     "data": {
      "image/png": "[encoded data removed]",
      "text/plain": [
       "<Figure size 432x432 with 2 Axes>"
      ]
     },
     "metadata": {
      "needs_background": "light"
     },
     "output_type": "display_data"
    }
   ],
   "source": [
    "y_pred = annModel.predict(featuersTestData)\n",
    "labels_pred = []\n",
    "for i in y_pred:\n",
    "    index=np.argmax(i)\n",
    "    labels_pred.append(index)\n",
    "    \n",
    "cm = confusion_matrix(labelsTestData,labels_pred)\n",
    "fig, ax = plt.subplots(figsize=(6,6))         # Sample figsize in inches\n",
    "sns.set(font_scale=1.6)\n",
    "sns.heatmap(cm, annot=True, ax=ax)"
   ]
  }
 ],
 "metadata": {
  "colab": {
   "collapsed_sections": [],
   "name": "LLEdition.ipynb",
   "provenance": []
  },
  "kernelspec": {
   "display_name": "Python 3 (ipykernel)",
   "language": "python",
   "name": "python3"
  },
  "language_info": {
   "codemirror_mode": {
    "name": "ipython",
    "version": 3
   },
   "file_extension": ".py",
   "mimetype": "text/x-python",
   "name": "python",
   "nbconvert_exporter": "python",
   "pygments_lexer": "ipython3",
   "version": "3.9.13"
  }
 },
 "nbformat": 4,
 "nbformat_minor": 5
}
